{
  "nbformat": 4,
  "nbformat_minor": 0,
  "metadata": {
    "colab": {
      "name": "MinTIC2022_Week2.ipynb",
      "provenance": [],
      "collapsed_sections": [],
      "include_colab_link": true
    },
    "kernelspec": {
      "name": "python3",
      "display_name": "Python 3"
    },
    "language_info": {
      "name": "python"
    }
  },
  "cells": [
    {
      "cell_type": "markdown",
      "metadata": {
        "id": "view-in-github",
        "colab_type": "text"
      },
      "source": [
        "<a href=\"https://colab.research.google.com/github/CristianContre/ProsperidadWEB/blob/master/MinTIC2022_Week2.ipynb\" target=\"_parent\"><img src=\"https://colab.research.google.com/assets/colab-badge.svg\" alt=\"Open In Colab\"/></a>"
      ]
    },
    {
      "cell_type": "markdown",
      "metadata": {
        "id": "VeMAJU3gDXVm"
      },
      "source": [
        ""
      ]
    },
    {
      "cell_type": "code",
      "metadata": {
        "colab": {
          "base_uri": "https://localhost:8080/"
        },
        "id": "4x2-rogQ_q8G",
        "outputId": "4d4a8172-9681-41e3-dc1e-426aa9e25506"
      },
      "source": [
        "i = 0.56\n",
        "j : int = 1\n",
        "k = -12\n",
        "\n",
        "print(type(i), type(j), k)"
      ],
      "execution_count": null,
      "outputs": [
        {
          "output_type": "stream",
          "text": [
            "<class 'float'> <class 'int'> -12\n"
          ],
          "name": "stdout"
        }
      ]
    },
    {
      "cell_type": "markdown",
      "metadata": {
        "id": "VUvLhA5mDZlk"
      },
      "source": [
        ""
      ]
    },
    {
      "cell_type": "code",
      "metadata": {
        "colab": {
          "base_uri": "https://localhost:8080/"
        },
        "id": "X95YLHvjrDuJ",
        "outputId": "6a1278d2-cef8-4a58-f704-0b15df3f7f00"
      },
      "source": [
        "e = 2.7182818284\n",
        "gamma : float = 0.577215664901\n",
        "phi = +1.61803398874989\n",
        "X = -1.0\n",
        "const_Boltzmann = 1.3806488E-23\n",
        "Luz: float = 2.998e+8\n",
        "Avogadro = +6.02214129e+23\n",
        "G: float = 6.67384e-11\n",
        "Plank = 6.62606896E-34\n",
        "\n",
        "print(e, Plank, G, Luz, X)"
      ],
      "execution_count": null,
      "outputs": [
        {
          "output_type": "stream",
          "text": [
            "2.7182818284 6.62606896e-34 6.67384e-11 299800000.0 -1.0\n"
          ],
          "name": "stdout"
        }
      ]
    },
    {
      "cell_type": "markdown",
      "metadata": {
        "id": "GGLABUcszgf5"
      },
      "source": [
        ""
      ]
    },
    {
      "cell_type": "code",
      "metadata": {
        "colab": {
          "base_uri": "https://localhost:8080/"
        },
        "id": "Yt1o8nS7zi0u",
        "outputId": "e6da826f-5040-4902-eca8-acf4dfc981a5"
      },
      "source": [
        "b = True\n",
        "flag: bool = True\n",
        "exp = False\n",
        "isPrime: bool = False\n",
        "print(b, flag, exp, type(isPrime))"
      ],
      "execution_count": null,
      "outputs": [
        {
          "output_type": "stream",
          "text": [
            "True True False <class 'bool'>\n"
          ],
          "name": "stdout"
        }
      ]
    },
    {
      "cell_type": "markdown",
      "metadata": {
        "id": "pjpC6Zn1zpRe"
      },
      "source": [
        ""
      ]
    },
    {
      "cell_type": "code",
      "metadata": {
        "colab": {
          "base_uri": "https://localhost:8080/"
        },
        "id": "1jj8ix1kzpeH",
        "outputId": "7f3fbb65-bd36-48d5-afc2-3ef7287ec506"
      },
      "source": [
        "example = 'ejemplo de cadena'\n",
        "example_format = \"Cadena con tabulado \\t\\t\\t y una nueva \\n línea\"\n",
        "example_unicode = 'Cadena con un carácter unicode \\u01F4 y una comilla doble\"'\n",
        "example_scape = \"Cadena con una comilla simple \\', una comilla doble \\\" y una diagonal invertida \\\\\"\n",
        "example_empty = \"\"\n",
        "\n",
        "print(example)\n",
        "print(example_format)\n",
        "print(example_unicode)\n",
        "print(example_empty)\n",
        "print(example_scape)"
      ],
      "execution_count": 1,
      "outputs": [
        {
          "output_type": "stream",
          "text": [
            "ejemplo de cadena\n",
            "Cadena con tabulado \t\t\t y una nueva \n",
            " línea\n",
            "Cadena con un carácter unicode Ǵ y una comilla doble\"\n",
            "\n",
            "Cadena con una comilla simple ', una comilla doble \" y una diagonal invertida \\\n"
          ],
          "name": "stdout"
        }
      ]
    },
    {
      "cell_type": "markdown",
      "metadata": {
        "id": "IDyDj6M40jhY"
      },
      "source": [
        ""
      ]
    },
    {
      "cell_type": "code",
      "metadata": {
        "colab": {
          "base_uri": "https://localhost:8080/"
        },
        "id": "8D1ned0N0kAt",
        "outputId": "7d01edcb-cde2-43f2-9ecc-07b77ed0dc2a"
      },
      "source": [
        "x = 2 + 4\n",
        "y = x - 3\n",
        "w = 3 * 4\n",
        "z = 15 / 4\n",
        "z_ent = 15 // 4\n",
        "mod = w % 5\n",
        "\n",
        "i = 0\n",
        "i += 6\n",
        "\n",
        "print(x, y, w, z, z_ent, mod, i)"
      ],
      "execution_count": null,
      "outputs": [
        {
          "output_type": "stream",
          "text": [
            "6 3 12 3.75 3 2 6\n"
          ],
          "name": "stdout"
        }
      ]
    },
    {
      "cell_type": "markdown",
      "metadata": {
        "id": "VqZqlbI51auC"
      },
      "source": [
        ""
      ]
    },
    {
      "cell_type": "code",
      "metadata": {
        "colab": {
          "base_uri": "https://localhost:8080/"
        },
        "id": "QykefMmC1bET",
        "outputId": "c3d03b5c-7fb8-4cb3-fcdd-76a5d399d58e"
      },
      "source": [
        "m1 = 3\n",
        "m2 = 5\n",
        "r = 10\n",
        "F: float = 6.67384E-11 * ((m1 * m2) / (r * r))\n",
        "print(F)"
      ],
      "execution_count": null,
      "outputs": [
        {
          "output_type": "stream",
          "text": [
            "1.001076e-11\n"
          ],
          "name": "stdout"
        }
      ]
    },
    {
      "cell_type": "markdown",
      "metadata": {
        "id": "BJj_FqAe1v21"
      },
      "source": [
        ""
      ]
    },
    {
      "cell_type": "code",
      "metadata": {
        "colab": {
          "base_uri": "https://localhost:8080/"
        },
        "id": "3v9UBAft1wFs",
        "outputId": "86f648d8-5379-4976-d170-ce0e21a141ac"
      },
      "source": [
        "good = True\n",
        "bad = False\n",
        "\n",
        "print(not good, not bad)\n",
        "print(good and bad)\n",
        "print(good or bad)"
      ],
      "execution_count": null,
      "outputs": [
        {
          "output_type": "stream",
          "text": [
            "False True\n",
            "False\n",
            "True\n"
          ],
          "name": "stdout"
        }
      ]
    },
    {
      "cell_type": "markdown",
      "metadata": {
        "id": "JKt4heAi2KhM"
      },
      "source": [
        ""
      ]
    },
    {
      "cell_type": "code",
      "metadata": {
        "colab": {
          "base_uri": "https://localhost:8080/"
        },
        "id": "Jt2MLH3Z2Kqm",
        "outputId": "db0711f6-fa52-463a-b2ad-78aa8880ab8a"
      },
      "source": [
        "a = 1.5\n",
        "print(0 < a <= 1)"
      ],
      "execution_count": null,
      "outputs": [
        {
          "output_type": "stream",
          "text": [
            "False\n"
          ],
          "name": "stdout"
        }
      ]
    },
    {
      "cell_type": "markdown",
      "metadata": {
        "id": "pnUi3pid2YSB"
      },
      "source": [
        ""
      ]
    },
    {
      "cell_type": "code",
      "metadata": {
        "colab": {
          "base_uri": "https://localhost:8080/"
        },
        "id": "W5HXyKaq2Yb5",
        "outputId": "7164579f-5df0-4fdf-ed79-97281ed00c93"
      },
      "source": [
        "operators_1 = 12.0 * 3 - -4.0 + 8 // 2 % 3\n",
        "operators_2 = (-2 + 5 % 3 * 4) // 4 + 2\n",
        "print(operators_1, operators_2)"
      ],
      "execution_count": null,
      "outputs": [
        {
          "output_type": "stream",
          "text": [
            "41.0 3\n"
          ],
          "name": "stdout"
        }
      ]
    },
    {
      "cell_type": "markdown",
      "metadata": {
        "id": "nPETkns43g4c"
      },
      "source": [
        ""
      ]
    },
    {
      "cell_type": "code",
      "metadata": {
        "colab": {
          "base_uri": "https://localhost:8080/"
        },
        "id": "FQ_GyHMP3hBx",
        "outputId": "a75c2c71-a2e1-400e-af58-ad9164f240af"
      },
      "source": [
        "def f(x):\n",
        "  return x * x\n",
        "\n",
        "print( f(2) )\n",
        "print( f(5) )"
      ],
      "execution_count": null,
      "outputs": [
        {
          "output_type": "stream",
          "text": [
            "4\n",
            "25\n"
          ],
          "name": "stdout"
        }
      ]
    },
    {
      "cell_type": "markdown",
      "metadata": {
        "id": "pHyOU3Zi3tIS"
      },
      "source": [
        ""
      ]
    },
    {
      "cell_type": "code",
      "metadata": {
        "colab": {
          "base_uri": "https://localhost:8080/"
        },
        "id": "wO-cLL5n3tRQ",
        "outputId": "11a85a7a-8be9-487d-c2c6-51ba352a3702"
      },
      "source": [
        "import math\n",
        "\n",
        "def area_circulo(r):\n",
        "  pi_value = 3.14159265\n",
        "  area = math.pi * r ** 2\n",
        "  return area\n",
        "\n",
        "print( area_circulo(3)  )\n",
        "print( area_circulo(5)  )"
      ],
      "execution_count": null,
      "outputs": [
        {
          "output_type": "stream",
          "text": [
            "28.274333882308138\n",
            "78.53981633974483\n"
          ],
          "name": "stdout"
        }
      ]
    },
    {
      "cell_type": "markdown",
      "metadata": {
        "id": "U08xXqfn4Hje"
      },
      "source": [
        ""
      ]
    },
    {
      "cell_type": "code",
      "metadata": {
        "colab": {
          "base_uri": "https://localhost:8080/"
        },
        "id": "-mpAp9p74Htg",
        "outputId": "69723d4c-f209-4bd8-a600-fbddc5c2ed28"
      },
      "source": [
        "n = 1\n",
        "x = float(n)\n",
        "y = float(0)\n",
        "z = float(-2)\n",
        "print(n, x, y, z)\n",
        "\n",
        "\n",
        "x = 1.0\n",
        "y = -2.5\n",
        "n = int(x)\n",
        "m = int(y)\n",
        "p = int(3.14159265)\n",
        "print(x, y, n, m, p)\n"
      ],
      "execution_count": null,
      "outputs": [
        {
          "output_type": "stream",
          "text": [
            "1 1.0 0.0 -2.0\n",
            "1.0 -2.5 1 -2 3\n"
          ],
          "name": "stdout"
        }
      ]
    },
    {
      "cell_type": "markdown",
      "metadata": {
        "id": "8222nTPr4on1"
      },
      "source": [
        ""
      ]
    },
    {
      "cell_type": "code",
      "metadata": {
        "colab": {
          "base_uri": "https://localhost:8080/"
        },
        "id": "vTvbLaEf4oy8",
        "outputId": "d00aaf48-1ce3-4436-ac01-e29c45d0656b"
      },
      "source": [
        "def area_rectangulo(l, a):\n",
        "  area = l * a\n",
        "  return area\n",
        "\n",
        "largo = float(input(\"Largo del rectángulo: \"))\n",
        "ancho = float(input(\"Ancho del rectángulo: \"))\n",
        "print(\"El área del rectángulo es:\", end = \" \")\n",
        "print(area_rectangulo(largo, ancho))"
      ],
      "execution_count": null,
      "outputs": [
        {
          "output_type": "stream",
          "text": [
            "Largo del rectángulo: 5\n",
            "Ancho del rectángulo: 3\n",
            "El área del rectángulo es: 15.0\n"
          ],
          "name": "stdout"
        }
      ]
    },
    {
      "cell_type": "markdown",
      "metadata": {
        "id": "kHlLViGb44Ip"
      },
      "source": [
        ""
      ]
    },
    {
      "cell_type": "code",
      "metadata": {
        "colab": {
          "base_uri": "https://localhost:8080/"
        },
        "id": "PRjJxLOE44R0",
        "outputId": "e061d9f6-70e5-4e64-af20-5f0197aadf85"
      },
      "source": [
        "KAPPA: float = 9E+9\n",
        "def ley_coulomb(Q1, Q2, r):\n",
        "  modulo = KAPPA * Q1 * Q2 / r ** 2\n",
        "  return modulo\n",
        "  \n",
        "carga1 = float(input(\"Carga 1: \"))\n",
        "carga2 = float(input(\"Carga 2: \"))\n",
        "distancia = float(input(\"Distancia entre cargas: \"))\n",
        "print(\"El módulo de la fuerza es:\", end = \" \")\n",
        "print(ley_coulomb(carga1, carga2, distancia))"
      ],
      "execution_count": null,
      "outputs": [
        {
          "output_type": "stream",
          "text": [
            "Carga 1: 1.6e-6\n",
            "Carga 2: 0.4e-6\n",
            "Distancia entre cargas: 0.3\n",
            "El módulo de la fuerza es: 0.064\n"
          ],
          "name": "stdout"
        }
      ]
    }
  ]
}